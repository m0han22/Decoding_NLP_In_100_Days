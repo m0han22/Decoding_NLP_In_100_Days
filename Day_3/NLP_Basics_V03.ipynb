{
 "cells": [
  {
   "cell_type": "markdown",
   "id": "e67d68b0-4d63-407d-9814-67fdeb843e16",
   "metadata": {},
   "source": [
    "## Lemmatization \n",
    "\n",
    "The lemmatization technique is like stemming. The output we will get after lemmatization is called a lemma. Which is the root word rather than the root stem?NTLK provides the WordNetLemmatizer class, which is wrapped around the WordNet corpus. This class uses the morphy() function in the WordNet CorpusReader class. WordNetLemmatizer takes more runtime than Stemming because it uses word corpus to compare.s\r\n"
   ]
  },
  {
   "cell_type": "code",
   "execution_count": 1,
   "id": "c130218c-d7e0-4c27-8fe2-45b8817fbe2f",
   "metadata": {},
   "outputs": [],
   "source": [
    "from nltk.stem import WordNetLemmatizer\n",
    "# Inititally need to download wornet\n",
    "# import nltk\n",
    "# nltk.download('wordnet')"
   ]
  },
  {
   "cell_type": "code",
   "execution_count": 2,
   "id": "78af1c9f-d398-4435-87bc-a94be5c8bd73",
   "metadata": {},
   "outputs": [
    {
     "data": {
      "text/plain": [
       "'going'"
      ]
     },
     "execution_count": 2,
     "metadata": {},
     "output_type": "execute_result"
    }
   ],
   "source": [
    "lemmatizer=WordNetLemmatizer()\n",
    "'''\n",
    "POS \n",
    "- noun:n\n",
    "- Verb:v\n",
    "- Adjective:a\n",
    "- Adverb:r\n",
    "\n",
    "By default it is n (noun)\n",
    "'''\n",
    "lemmatizer.lemmatize(\"going\")"
   ]
  },
  {
   "cell_type": "code",
   "execution_count": 3,
   "id": "182d7071-70e4-4720-a442-7b9240548640",
   "metadata": {},
   "outputs": [
    {
     "data": {
      "text/plain": [
       "'go'"
      ]
     },
     "execution_count": 3,
     "metadata": {},
     "output_type": "execute_result"
    }
   ],
   "source": [
    "lemmatizer.lemmatize(\"going\",pos='v')"
   ]
  },
  {
   "cell_type": "code",
   "execution_count": 4,
   "id": "6bf4ab12-b2f6-4441-a629-cb85e43bb4f5",
   "metadata": {},
   "outputs": [
    {
     "data": {
      "text/plain": [
       "'eat'"
      ]
     },
     "execution_count": 4,
     "metadata": {},
     "output_type": "execute_result"
    }
   ],
   "source": [
    "lemmatizer.lemmatize(\"ate\",pos='v')"
   ]
  },
  {
   "cell_type": "code",
   "execution_count": 5,
   "id": "1fadada4-babf-456e-bba5-06977edbdb3c",
   "metadata": {},
   "outputs": [
    {
     "data": {
      "text/plain": [
       "'run'"
      ]
     },
     "execution_count": 5,
     "metadata": {},
     "output_type": "execute_result"
    }
   ],
   "source": [
    "lemmatizer.lemmatize(\"ran\",pos='v')"
   ]
  },
  {
   "cell_type": "code",
   "execution_count": 14,
   "id": "c554f112-31f9-4126-ad88-0cd19475b5ef",
   "metadata": {},
   "outputs": [
    {
     "name": "stdout",
     "output_type": "stream",
     "text": [
      "ran---->run\n",
      "ate---->eat\n",
      "eating---->eat\n",
      "walking---->walk\n",
      "prograaming---->prograaming\n",
      "program---->program\n",
      "goes---->go\n"
     ]
    }
   ],
   "source": [
    "v_words = [\"ran\",\"ate\",\"eating\",\"walking\",\"prograaming\",\"program\",\"goes\"]\n",
    "for word in v_words:\n",
    "    print(word+'---->'+lemmatizer.lemmatize(word,pos='v'))"
   ]
  },
  {
   "cell_type": "code",
   "execution_count": 16,
   "id": "c741d8c4-d678-4269-9759-7dd506ea7e5d",
   "metadata": {},
   "outputs": [
    {
     "data": {
      "text/plain": [
       "'RAN'"
      ]
     },
     "execution_count": 16,
     "metadata": {},
     "output_type": "execute_result"
    }
   ],
   "source": [
    "## WordNetLemmatizer will not work with capital letter\n",
    "## Need to convert into Small Case Letters before Lemmatizing.\n",
    "lemmatizer.lemmatize(\"RAN\",pos='v')"
   ]
  },
  {
   "cell_type": "code",
   "execution_count": 17,
   "id": "f2a48790-5692-4d97-9749-57faeb55e3a2",
   "metadata": {},
   "outputs": [
    {
     "name": "stdout",
     "output_type": "stream",
     "text": [
      "RAN---->RAN\n",
      "Ate---->Ate\n",
      "Eating---->Eating\n",
      "Walking---->Walking\n",
      "Prograaming---->Prograaming\n",
      "program---->program\n",
      "Goes---->Goes\n"
     ]
    }
   ],
   "source": [
    "v_words = [\"RAN\",\"Ate\",\"Eating\",\"Walking\",\"Prograaming\",\"program\",\"Goes\"]\n",
    "for word in v_words:\n",
    "    print(word+'---->'+lemmatizer.lemmatize(word,pos='v'))"
   ]
  },
  {
   "cell_type": "code",
   "execution_count": null,
   "id": "fd85fcf5-01fc-403b-baaa-2c5c9c5ee83a",
   "metadata": {},
   "outputs": [],
   "source": []
  }
 ],
 "metadata": {
  "kernelspec": {
   "display_name": "Python 3 (ipykernel)",
   "language": "python",
   "name": "python3"
  },
  "language_info": {
   "codemirror_mode": {
    "name": "ipython",
    "version": 3
   },
   "file_extension": ".py",
   "mimetype": "text/x-python",
   "name": "python",
   "nbconvert_exporter": "python",
   "pygments_lexer": "ipython3",
   "version": "3.11.7"
  }
 },
 "nbformat": 4,
 "nbformat_minor": 5
}

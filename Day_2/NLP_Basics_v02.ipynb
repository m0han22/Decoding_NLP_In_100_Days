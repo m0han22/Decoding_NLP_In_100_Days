{
 "cells": [
  {
   "cell_type": "markdown",
   "id": "305ced25-b262-417b-8da7-d3a0a4f2b8e2",
   "metadata": {},
   "source": [
    "## Porter Stemmer"
   ]
  },
  {
   "cell_type": "code",
   "execution_count": 2,
   "id": "bd6dff62-075c-4258-bc2c-4cba75c5ec06",
   "metadata": {},
   "outputs": [
    {
     "name": "stdout",
     "output_type": "stream",
     "text": [
      "Programming--->program\n",
      "Program--->program\n",
      "Running--->run\n",
      "Ran--->ran\n",
      "Run--->run\n",
      "Walking--->walk\n",
      "Walked--->walk\n",
      "Ate--->ate\n",
      "Eating--->eat\n",
      "Eat--->eat\n"
     ]
    }
   ],
   "source": [
    "from nltk.stem import PorterStemmer\n",
    "\n",
    "pporter = PorterStemmer()\n",
    "\n",
    "pr_words = [\"Programming\", \"Program\", \"Running\", \"Ran\", \"Run\", \"Walking\", \"Walked\", \"Ate\",\"Eating\", \"Eat\"]\n",
    "\n",
    "for word in pr_words:\n",
    "    print(word+\"--->\"+pporter.stem(word))"
   ]
  },
  {
   "cell_type": "markdown",
   "id": "dbe18326-f653-4127-a828-31797caff588",
   "metadata": {},
   "source": [
    "## Snowball Stemmer "
   ]
  },
  {
   "cell_type": "code",
   "execution_count": 3,
   "id": "437e382f-d0d9-4a3c-bd24-5401dc093ad6",
   "metadata": {},
   "outputs": [
    {
     "name": "stdout",
     "output_type": "stream",
     "text": [
      "Programming-->program\n",
      "Program-->program\n",
      "Running-->run\n",
      "Ran-->ran\n",
      "Run-->run\n",
      "Walking-->walk\n",
      "Walked-->walk\n",
      "Ate-->ate\n",
      "Eating-->eat\n",
      "Eat-->eat\n"
     ]
    }
   ],
   "source": [
    "from nltk.stem import SnowballStemmer\n",
    "sporter = SnowballStemmer('english')\n",
    "sn_words = [\"Programming\", \"Program\", \"Running\", \"Ran\", \"Run\", \"Walking\", \"Walked\", \"Ate\",\"Eating\", \"Eat\"]\n",
    "\n",
    "for word in sn_words:\n",
    "    print(word+\"-->\"+sporter.stem(word))"
   ]
  },
  {
   "cell_type": "markdown",
   "id": "547a7cf6-1d5f-4bab-b59d-a91b7c8eb69e",
   "metadata": {},
   "source": [
    "## Lancaster Stemmer\n"
   ]
  },
  {
   "cell_type": "code",
   "execution_count": 4,
   "id": "1c018e4d-b122-4377-b070-47b8c3f01c40",
   "metadata": {},
   "outputs": [
    {
     "name": "stdout",
     "output_type": "stream",
     "text": [
      "Programming-->program\n",
      "Program-->program\n",
      "Running-->run\n",
      "Ran-->ran\n",
      "Run-->run\n",
      "Walking-->walk\n",
      "Walked-->walk\n",
      "Ate-->at\n",
      "Eating-->eat\n",
      "Eat-->eat\n"
     ]
    }
   ],
   "source": [
    "from nltk.stem import LancasterStemmer\n",
    "lporter = LancasterStemmer()\n",
    "ln_words = [\"Programming\", \"Program\", \"Running\", \"Ran\", \"Run\", \"Walking\", \"Walked\", \"Ate\",\"Eating\", \"Eat\"]\n",
    "\n",
    "for word in ln_words:\n",
    "    print(word+\"-->\"+lporter.stem(word))"
   ]
  },
  {
   "cell_type": "markdown",
   "id": "9b159a40-6e74-47fd-a51d-220c660ed11b",
   "metadata": {},
   "source": [
    "## Regex Porter"
   ]
  },
  {
   "cell_type": "code",
   "execution_count": 7,
   "id": "2e28106f-af58-4503-b28e-70b160b610d1",
   "metadata": {},
   "outputs": [
    {
     "name": "stdout",
     "output_type": "stream",
     "text": [
      "Programming-->Programm\n",
      "Program-->Program\n",
      "Running-->Runn\n",
      "Ran-->Ran\n",
      "Run-->Run\n",
      "Walking-->Walk\n",
      "Walked-->Walk\n",
      "Ate-->Ate\n",
      "Eating-->Eat\n",
      "Eat-->Eat\n"
     ]
    }
   ],
   "source": [
    "from nltk.stem import RegexpStemmer\n",
    "rporter = RegexpStemmer(\"ing$|s$|ed$\",min=4)\n",
    "r_words = [\"Programming\", \"Program\", \"Running\", \"Ran\", \"Run\", \"Walking\", \"Walked\", \"Ate\",\"Eating\", \"Eat\"]\n",
    "\n",
    "for word in r_words:\n",
    "    print(word+\"-->\"+rporter.stem(word))"
   ]
  },
  {
   "cell_type": "code",
   "execution_count": null,
   "id": "8c35cd13-e457-4b6a-8acd-a2dd7e8e8eee",
   "metadata": {},
   "outputs": [],
   "source": []
  }
 ],
 "metadata": {
  "kernelspec": {
   "display_name": "Python 3 (ipykernel)",
   "language": "python",
   "name": "python3"
  },
  "language_info": {
   "codemirror_mode": {
    "name": "ipython",
    "version": 3
   },
   "file_extension": ".py",
   "mimetype": "text/x-python",
   "name": "python",
   "nbconvert_exporter": "python",
   "pygments_lexer": "ipython3",
   "version": "3.11.7"
  }
 },
 "nbformat": 4,
 "nbformat_minor": 5
}
